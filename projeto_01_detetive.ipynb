{
  "nbformat": 4,
  "nbformat_minor": 0,
  "metadata": {
    "colab": {
      "name": "Projeto 01 - Blue.ipynb",
      "provenance": [],
      "authorship_tag": "ABX9TyM/kNVm6unS4URbUGYUWMdY",
      "include_colab_link": true
    },
    "kernelspec": {
      "name": "python3",
      "display_name": "Python 3"
    },
    "language_info": {
      "name": "python"
    }
  },
  "cells": [
    {
      "cell_type": "markdown",
      "metadata": {
        "id": "view-in-github",
        "colab_type": "text"
      },
      "source": [
        "<a href=\"https://colab.research.google.com/github/cnicacio/projetos_blue_modulo1/blob/main/projeto_01_detetive.ipynb\" target=\"_parent\"><img src=\"https://colab.research.google.com/assets/colab-badge.svg\" alt=\"Open In Colab\"/></a>"
      ]
    },
    {
      "cell_type": "markdown",
      "metadata": {
        "id": "Wli3fL1AXSz2"
      },
      "source": [
        "# Projeto 01 - Detetive"
      ]
    },
    {
      "cell_type": "code",
      "metadata": {
        "colab": {
          "base_uri": "https://localhost:8080/"
        },
        "id": "IGwez4QFXVsO",
        "outputId": "704a8ff1-71d4-4e11-d7cb-5156ecdf1480"
      },
      "source": [
        "# criando lista para as perguntas\n",
        "\n",
        "perguntas = [\"Você telefonou para a vítima? \",\n",
        "\"\\nVocê esteve no local do crime? \",\n",
        "\"\\nVocê mora perto da vítima? \",\n",
        "\"\\nVocê devia para a vítima? \",\n",
        "\"\\nVocê já trabalhou com a vítima? \"]\n",
        "\n",
        "respostas = [] # lista vazia para as respostas a ser preenchida pelo usuário\n",
        "\n",
        "for pergunta in perguntas:\n",
        "  while True: # while forçará a repetição da pergunta enquanto a resposta não for 's' ou 'n'\n",
        "    resposta = str.upper(input(pergunta))[0] # input para o usuário responder cada pergunta da lista perguntas\n",
        "\n",
        "    if resposta == 'S':\n",
        "      respostas.append(True) # append adiciona a resposta 's' ao final da lista, correspondente à pergunta feita\n",
        "      break\n",
        "    elif resposta == 'N':\n",
        "      respostas.append(False) # append adiciona a resposta 'n' ao final da lista, correspondente à pergunta feita\n",
        "      break\n",
        "      \n",
        "    else:\n",
        "      print (\"Por favor responda com 's' ou 'n'!\") # força a repetição da pergunta até que a resposta seja 's' ou 'n'\n",
        "\n",
        "respostasPositivas = respostas.count(True)\n",
        "\n",
        "if respostasPositivas == 2:\n",
        "  print(\"\\nA pessoa é Suspeita!\")\n",
        "elif respostasPositivas > 2 and respostasPositivas < 5:\n",
        "  print(\"\\nA pessoa é Cúmplice!\")\n",
        "elif respostasPositivas == 5:\n",
        "  print(\"\\nA pessoa é a Assassina!\")\n",
        "else:\n",
        "  print(\"\\nA pessoa é Inocente!\")"
      ],
      "execution_count": 9,
      "outputs": [
        {
          "output_type": "stream",
          "text": [
            "Você telefonou para a vítima? SIM\n",
            "\n",
            "Você esteve no local do crime? N\n",
            "\n",
            "Você mora perto da vítima? NAO\n",
            "\n",
            "Você devia para a vítima? SIN\n",
            "\n",
            "Você já trabalhou com a vítima? NAO\n",
            "\n",
            "A pessoa é Suspeita!\n"
          ],
          "name": "stdout"
        }
      ]
    },
    {
      "cell_type": "code",
      "metadata": {
        "id": "Kb4-I_GVAeZG"
      },
      "source": [
        ""
      ],
      "execution_count": null,
      "outputs": []
    }
  ]
}