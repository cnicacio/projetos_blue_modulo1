{
  "nbformat": 4,
  "nbformat_minor": 0,
  "metadata": {
    "colab": {
      "name": "Projeto 01 - Blue.ipynb",
      "provenance": [],
      "authorship_tag": "ABX9TyPDqDqroEEJVH5/Z6GNHVV1",
      "include_colab_link": true
    },
    "kernelspec": {
      "name": "python3",
      "display_name": "Python 3"
    },
    "language_info": {
      "name": "python"
    }
  },
  "cells": [
    {
      "cell_type": "markdown",
      "metadata": {
        "id": "Wli3fL1AXSz2"
      },
      "source": [
        "# Projeto 01 - Detetive"
      ]
    },
    {
      "cell_type": "code",
      "metadata": {
        "colab": {
          "base_uri": "https://localhost:8080/"
        },
        "id": "IGwez4QFXVsO",
        "outputId": "4ed27df6-2a98-4a73-89a6-12d2246e6b7d"
      },
      "source": [
        "# criando lista para as perguntas\n",
        "\n",
        "print('FORMULÁRIO DE INTERROGATÓRIO A SUSPEITAS DO CRIME XXXX\\n\\n')\n",
        "\n",
        "pessoa = input('Digite o seu nome completo: ')\n",
        "print(pessoa)\n",
        "\n",
        "print('\\nFaremos algumas perguntas agora, responda sinceramente.\\n')\n",
        "\n",
        "perguntas = [\"Você telefonou para a vítima? \",\n",
        "\"\\nVocê esteve no local do crime? \",\n",
        "\"\\nVocê mora perto da vítima? \",\n",
        "\"\\nVocê devia para a vítima? \",\n",
        "\"\\nVocê já trabalhou com a vítima? \"]\n",
        "\n",
        "respostas = [] # lista vazia para as respostas a ser preenchida pelo usuário\n",
        "\n",
        "for pergunta in perguntas:\n",
        "  while True: # while forçará a repetição da pergunta enquanto a resposta não for 's' ou 'n'\n",
        "    resposta = str.upper(input(pergunta))[0] # input para o usuário responder cada pergunta da lista perguntas\n",
        "\n",
        "    if resposta == 'S':\n",
        "      respostas.append(True) # append adiciona a resposta 's' ao final da lista, correspondente à pergunta feita\n",
        "      break\n",
        "    elif resposta == 'N':\n",
        "      respostas.append(False) # append adiciona a resposta 'n' ao final da lista, correspondente à pergunta feita\n",
        "      break\n",
        "      \n",
        "    else:\n",
        "      print(f\"{pessoa}, por favor responda 'SIM' ou 'NÃO'!\") # força a repetição da pergunta até que a resposta seja 'S' ou 'N'\n",
        "\n",
        "respostasPositivas = respostas.count(True)\n",
        "\n",
        "if respostasPositivas == 2:\n",
        "  print(f\"\\n{pessoa}, você é considerada suspeita do crime!\")\n",
        "elif respostasPositivas > 2 and respostasPositivas < 5:\n",
        "  print(f\"\\n{pessoa}, você é considerada cúmplice do crime!\")\n",
        "elif respostasPositivas == 5:\n",
        "  print(f\"\\n{pessoa}, você é considerada a autora do crime, portanto, a assassina!\")\n",
        "else:\n",
        "  print(f\"\\n{pessoa}, você é inocente!\")"
      ],
      "execution_count": 12,
      "outputs": [
        {
          "output_type": "stream",
          "text": [
            "FORMULÁRIO DE INTERROGATÓRIO A SUSPEITAS DO CRIME XXXX\n",
            "\n",
            "\n",
            "Digite o seu nome completo: Carcio Nicalos\n",
            "Carcio Nicalos\n",
            "\n",
            "Faremos algumas perguntas agora, responda sinceramente.\n",
            "\n",
            "Você telefonou para a vítima? Não\n",
            "\n",
            "Você esteve no local do crime? Não\n",
            "\n",
            "Você mora perto da vítima? Não\n",
            "\n",
            "Você devia para a vítima? Não\n",
            "\n",
            "Você já trabalhou com a vítima? Não\n",
            "\n",
            "Carcio Nicalos, você é inocente!\n"
          ],
          "name": "stdout"
        }
      ]
    }
  ]
}