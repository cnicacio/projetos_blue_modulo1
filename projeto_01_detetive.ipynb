{
  "nbformat": 4,
  "nbformat_minor": 0,
  "metadata": {
    "colab": {
      "name": "Projeto 01 - Blue.ipynb",
      "provenance": [],
      "authorship_tag": "ABX9TyOmnMnJuflxpReYZzcR0uE2",
      "include_colab_link": true
    },
    "kernelspec": {
      "name": "python3",
      "display_name": "Python 3"
    },
    "language_info": {
      "name": "python"
    }
  },
  "cells": [
    {
      "cell_type": "markdown",
      "metadata": {
        "id": "view-in-github",
        "colab_type": "text"
      },
      "source": [
        "<a href=\"https://colab.research.google.com/github/cnicacio/projetos_blue_modulo1/blob/main/projeto_01_detetive.ipynb\" target=\"_parent\"><img src=\"https://colab.research.google.com/assets/colab-badge.svg\" alt=\"Open In Colab\"/></a>"
      ]
    },
    {
      "cell_type": "markdown",
      "metadata": {
        "id": "Wli3fL1AXSz2"
      },
      "source": [
        "# Projeto 01 - Detetive"
      ]
    },
    {
      "cell_type": "code",
      "metadata": {
        "colab": {
          "base_uri": "https://localhost:8080/"
        },
        "id": "IGwez4QFXVsO",
        "outputId": "3e6037e5-95e0-4045-b930-a7380c4de2b4"
      },
      "source": [
        "perguntas = [\"Você telefonou para a vítima? \",\n",
        "\"Você esteve no local do crime? \",\n",
        "\"Você mora perto da vítima? \",\n",
        "\"Você devia para a vítima? \",\n",
        "\"Você já trabalhou com a vítima? \" ]\n",
        "\n",
        "respostas = []\n",
        "\n",
        "for pergunta in perguntas:\n",
        "  while True:\n",
        "    resposta = str.lower(input(pergunta))\n",
        "\n",
        "    if resposta == 's':\n",
        "      respostas.append(True)\n",
        "      break\n",
        "\n",
        "    if resposta == 'n':\n",
        "      respostas.append(False)\n",
        "      break\n",
        "      \n",
        "    if resposta != \"s\" and \"n\":\n",
        "      print (\"Por favor responda com 's' ou 'n'!\")\n",
        "\n",
        "respostasPositivas = respostas.count(True)\n",
        "\n",
        "if respostasPositivas <= 2:\n",
        "  print(\"\\nA pessoa é Suspeita!\")\n",
        "elif respostasPositivas > 2 and respostasPositivas < 5:\n",
        "  print(\"\\nA pessoa é Cúmplice!\")\n",
        "elif respostasPositivas == 5:\n",
        "  print(\"\\nA pessoa é Assassina!\")\n",
        "else:\n",
        "  print(\"\\nA pessoa é Inocente!\")"
      ],
      "execution_count": 2,
      "outputs": [
        {
          "output_type": "stream",
          "text": [
            "Você telefonou para a vítima? S\n",
            "Você esteve no local do crime? D\n",
            "Por favor responda com 's' ou 'n'!\n",
            "Você esteve no local do crime? S\n",
            "Você mora perto da vítima? E\n",
            "Por favor responda com 's' ou 'n'!\n",
            "Você mora perto da vítima? S\n",
            "Você devia para a vítima? S\n",
            "Você já trabalhou com a vítima? S\n",
            "\n",
            "A pessoa é o Assassino!\n"
          ],
          "name": "stdout"
        }
      ]
    }
  ]
}